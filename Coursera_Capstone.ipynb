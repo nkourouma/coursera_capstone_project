{
    "nbformat_minor": 1, 
    "cells": [
        {
            "source": "# Capstone Project Notebook", 
            "cell_type": "markdown", 
            "metadata": {}
        }, 
        {
            "execution_count": 13, 
            "cell_type": "code", 
            "metadata": {
                "scrolled": true
            }, 
            "outputs": [
                {
                    "output_type": "stream", 
                    "name": "stdout", 
                    "text": "Pandas and numpy imported\n"
                }
            ], 
            "source": "#Import the pandas library pd. Import the Numpy library np.\nimport pandas as pd\nimport numpy as np\nprint('Pandas and numpy imported')"
        }, 
        {
            "source": "### Hello Capstone Project Course!", 
            "cell_type": "markdown", 
            "metadata": {}
        }
    ], 
    "metadata": {
        "kernelspec": {
            "display_name": "Python 3.5", 
            "name": "python3", 
            "language": "python"
        }, 
        "language_info": {
            "mimetype": "text/x-python", 
            "nbconvert_exporter": "python", 
            "version": "3.5.5", 
            "name": "python", 
            "file_extension": ".py", 
            "pygments_lexer": "ipython3", 
            "codemirror_mode": {
                "version": 3, 
                "name": "ipython"
            }
        }
    }, 
    "nbformat": 4
}