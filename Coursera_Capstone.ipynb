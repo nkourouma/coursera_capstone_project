{
    "nbformat_minor": 1, 
    "cells": [
        {
            "source": "# Capstone Project Notebook\n\n#### This notebook will focus on the capstone project for the data science certificate on coursera.  \n", 
            "cell_type": "markdown", 
            "metadata": {}
        }, 
        {
            "execution_count": 134, 
            "cell_type": "code", 
            "metadata": {
                "scrolled": true
            }, 
            "outputs": [
                {
                    "output_type": "stream", 
                    "name": "stdout", 
                    "text": "Pandas and numpy imported\n"
                }
            ], 
            "source": "#Import the pandas library pd. Import the Numpy library np.\nimport pandas as pd\nimport numpy as np\nprint('Pandas and numpy imported')"
        }, 
        {
            "execution_count": 135, 
            "cell_type": "code", 
            "metadata": {}, 
            "outputs": [
                {
                    "output_type": "stream", 
                    "name": "stdout", 
                    "text": "Hello Capstone Project Course!\n"
                }
            ], 
            "source": "print(\"Hello Capstone Project Course!\")"
        }, 
        {
            "execution_count": 136, 
            "cell_type": "code", 
            "metadata": {}, 
            "outputs": [
                {
                    "execution_count": 136, 
                    "metadata": {}, 
                    "data": {
                        "text/html": "<div>\n<style scoped>\n    .dataframe tbody tr th:only-of-type {\n        vertical-align: middle;\n    }\n\n    .dataframe tbody tr th {\n        vertical-align: top;\n    }\n\n    .dataframe thead th {\n        text-align: right;\n    }\n</style>\n<table border=\"1\" class=\"dataframe\">\n  <thead>\n    <tr style=\"text-align: right;\">\n      <th></th>\n      <th></th>\n      <th>Neighbourhood</th>\n    </tr>\n    <tr>\n      <th>Postcode</th>\n      <th>Borough</th>\n      <th></th>\n    </tr>\n  </thead>\n  <tbody>\n    <tr>\n      <th>M3A</th>\n      <th>North York</th>\n      <td>Parkwoods</td>\n    </tr>\n    <tr>\n      <th>M4A</th>\n      <th>North York</th>\n      <td>Victoria Village</td>\n    </tr>\n    <tr>\n      <th>M5A</th>\n      <th>Downtown Toronto</th>\n      <td>Harbourfront,Regent Park</td>\n    </tr>\n    <tr>\n      <th>M6A</th>\n      <th>North York</th>\n      <td>Lawrence Heights,Lawrence Manor</td>\n    </tr>\n    <tr>\n      <th>M7A</th>\n      <th>Queen's Park</th>\n      <td>Not assigned</td>\n    </tr>\n    <tr>\n      <th>M9A</th>\n      <th>Etobicoke</th>\n      <td>Islington Avenue</td>\n    </tr>\n    <tr>\n      <th>M1B</th>\n      <th>Scarborough</th>\n      <td>Rouge,Malvern</td>\n    </tr>\n    <tr>\n      <th>M3B</th>\n      <th>North York</th>\n      <td>Don Mills North</td>\n    </tr>\n    <tr>\n      <th>M4B</th>\n      <th>East York</th>\n      <td>Woodbine Gardens,Parkview Hill</td>\n    </tr>\n    <tr>\n      <th>M5B</th>\n      <th>Downtown Toronto</th>\n      <td>Ryerson,Garden District</td>\n    </tr>\n    <tr>\n      <th>M6B</th>\n      <th>North York</th>\n      <td>Glencairn</td>\n    </tr>\n    <tr>\n      <th>M9B</th>\n      <th>Etobicoke</th>\n      <td>Cloverdale,Islington,Martin Grove,Princess Gar...</td>\n    </tr>\n    <tr>\n      <th>M1C</th>\n      <th>Scarborough</th>\n      <td>Highland Creek,Rouge Hill,Port Union</td>\n    </tr>\n    <tr>\n      <th>M3C</th>\n      <th>North York</th>\n      <td>Flemingdon Park,Don Mills South</td>\n    </tr>\n    <tr>\n      <th>M4C</th>\n      <th>East York</th>\n      <td>Woodbine Heights</td>\n    </tr>\n    <tr>\n      <th>M5C</th>\n      <th>Downtown Toronto</th>\n      <td>St. James Town</td>\n    </tr>\n    <tr>\n      <th>M6C</th>\n      <th>York</th>\n      <td>Humewood-Cedarvale</td>\n    </tr>\n    <tr>\n      <th>M9C</th>\n      <th>Etobicoke</th>\n      <td>Bloordale Gardens,Eringate,Markland Wood,Old B...</td>\n    </tr>\n    <tr>\n      <th>M1E</th>\n      <th>Scarborough</th>\n      <td>Guildwood,Morningside,West Hill</td>\n    </tr>\n    <tr>\n      <th>M4E</th>\n      <th>East Toronto</th>\n      <td>The Beaches</td>\n    </tr>\n    <tr>\n      <th>M5E</th>\n      <th>Downtown Toronto</th>\n      <td>Berczy Park</td>\n    </tr>\n    <tr>\n      <th>M6E</th>\n      <th>York</th>\n      <td>Caledonia-Fairbanks</td>\n    </tr>\n    <tr>\n      <th>M1G</th>\n      <th>Scarborough</th>\n      <td>Woburn</td>\n    </tr>\n    <tr>\n      <th>M4G</th>\n      <th>East York</th>\n      <td>Leaside</td>\n    </tr>\n    <tr>\n      <th>M5G</th>\n      <th>Downtown Toronto</th>\n      <td>Central Bay Street</td>\n    </tr>\n    <tr>\n      <th>M6G</th>\n      <th>Downtown Toronto</th>\n      <td>Christie</td>\n    </tr>\n    <tr>\n      <th>M1H</th>\n      <th>Scarborough</th>\n      <td>Cedarbrae</td>\n    </tr>\n    <tr>\n      <th>M2H</th>\n      <th>North York</th>\n      <td>Hillcrest Village</td>\n    </tr>\n    <tr>\n      <th>M3H</th>\n      <th>North York</th>\n      <td>Bathurst Manor,Downsview North,Wilson Heights</td>\n    </tr>\n    <tr>\n      <th>M4H</th>\n      <th>East York</th>\n      <td>Thorncliffe Park</td>\n    </tr>\n    <tr>\n      <th>...</th>\n      <th>...</th>\n      <td>...</td>\n    </tr>\n    <tr>\n      <th>M4R</th>\n      <th>Central Toronto</th>\n      <td>North Toronto West</td>\n    </tr>\n    <tr>\n      <th>M5R</th>\n      <th>Central Toronto</th>\n      <td>The Annex,North Midtown,Yorkville</td>\n    </tr>\n    <tr>\n      <th>M6R</th>\n      <th>West Toronto</th>\n      <td>Parkdale,Roncesvalles</td>\n    </tr>\n    <tr>\n      <th>M7R</th>\n      <th>Mississauga</th>\n      <td>Canada Post Gateway Processing Centre</td>\n    </tr>\n    <tr>\n      <th>M9R</th>\n      <th>Etobicoke</th>\n      <td>Kingsview Village,Martin Grove Gardens,Richvie...</td>\n    </tr>\n    <tr>\n      <th>M1S</th>\n      <th>Scarborough</th>\n      <td>Agincourt</td>\n    </tr>\n    <tr>\n      <th>M4S</th>\n      <th>Central Toronto</th>\n      <td>Davisville</td>\n    </tr>\n    <tr>\n      <th>M5S</th>\n      <th>Downtown Toronto</th>\n      <td>Harbord,University of Toronto</td>\n    </tr>\n    <tr>\n      <th>M6S</th>\n      <th>West Toronto</th>\n      <td>Runnymede,Swansea</td>\n    </tr>\n    <tr>\n      <th>M1T</th>\n      <th>Scarborough</th>\n      <td>Clarks Corners,Sullivan,Tam O'Shanter</td>\n    </tr>\n    <tr>\n      <th>M4T</th>\n      <th>Central Toronto</th>\n      <td>Moore Park,Summerhill East</td>\n    </tr>\n    <tr>\n      <th>M5T</th>\n      <th>Downtown Toronto</th>\n      <td>Chinatown,Grange Park,Kensington Market</td>\n    </tr>\n    <tr>\n      <th>M1V</th>\n      <th>Scarborough</th>\n      <td>Agincourt North,L'Amoreaux East,Milliken,Steel...</td>\n    </tr>\n    <tr>\n      <th>M4V</th>\n      <th>Central Toronto</th>\n      <td>Deer Park,Forest Hill SE,Rathnelly,South Hill,...</td>\n    </tr>\n    <tr>\n      <th>M5V</th>\n      <th>Downtown Toronto</th>\n      <td>CN Tower,Bathurst Quay,Island airport,Harbourf...</td>\n    </tr>\n    <tr>\n      <th>M8V</th>\n      <th>Etobicoke</th>\n      <td>Humber Bay Shores,Mimico South,New Toronto</td>\n    </tr>\n    <tr>\n      <th>M9V</th>\n      <th>Etobicoke</th>\n      <td>Albion Gardens,Beaumond Heights,Humbergate,Jam...</td>\n    </tr>\n    <tr>\n      <th>M1W</th>\n      <th>Scarborough</th>\n      <td>L'Amoreaux West,Steeles West</td>\n    </tr>\n    <tr>\n      <th>M4W</th>\n      <th>Downtown Toronto</th>\n      <td>Rosedale</td>\n    </tr>\n    <tr>\n      <th>M5W</th>\n      <th>Downtown Toronto</th>\n      <td>Stn A PO Boxes 25 The Esplanade</td>\n    </tr>\n    <tr>\n      <th>M8W</th>\n      <th>Etobicoke</th>\n      <td>Alderwood,Long Branch</td>\n    </tr>\n    <tr>\n      <th>M9W</th>\n      <th>Etobicoke</th>\n      <td>Northwest</td>\n    </tr>\n    <tr>\n      <th>M1X</th>\n      <th>Scarborough</th>\n      <td>Upper Rouge</td>\n    </tr>\n    <tr>\n      <th>M4X</th>\n      <th>Downtown Toronto</th>\n      <td>Cabbagetown,St. James Town</td>\n    </tr>\n    <tr>\n      <th>M5X</th>\n      <th>Downtown Toronto</th>\n      <td>First Canadian Place,Underground city</td>\n    </tr>\n    <tr>\n      <th>M8X</th>\n      <th>Etobicoke</th>\n      <td>The Kingsway,Montgomery Road,Old Mill North</td>\n    </tr>\n    <tr>\n      <th>M4Y</th>\n      <th>Downtown Toronto</th>\n      <td>Church and Wellesley</td>\n    </tr>\n    <tr>\n      <th>M7Y</th>\n      <th>East Toronto</th>\n      <td>Business Reply Mail Processing Centre 969 Eastern</td>\n    </tr>\n    <tr>\n      <th>M8Y</th>\n      <th>Etobicoke</th>\n      <td>Humber Bay,King's Mill Park,Kingsway Park Sout...</td>\n    </tr>\n    <tr>\n      <th>M8Z</th>\n      <th>Etobicoke</th>\n      <td>Kingsway Park South West,Mimico NW,The Queensw...</td>\n    </tr>\n  </tbody>\n</table>\n<p>103 rows \u00d7 1 columns</p>\n</div>", 
                        "text/plain": "                                                               Neighbourhood\nPostcode Borough                                                            \nM3A      North York                                                Parkwoods\nM4A      North York                                         Victoria Village\nM5A      Downtown Toronto                           Harbourfront,Regent Park\nM6A      North York                          Lawrence Heights,Lawrence Manor\nM7A      Queen's Park                                           Not assigned\nM9A      Etobicoke                                          Islington Avenue\nM1B      Scarborough                                           Rouge,Malvern\nM3B      North York                                          Don Mills North\nM4B      East York                            Woodbine Gardens,Parkview Hill\nM5B      Downtown Toronto                            Ryerson,Garden District\nM6B      North York                                                Glencairn\nM9B      Etobicoke         Cloverdale,Islington,Martin Grove,Princess Gar...\nM1C      Scarborough                    Highland Creek,Rouge Hill,Port Union\nM3C      North York                          Flemingdon Park,Don Mills South\nM4C      East York                                          Woodbine Heights\nM5C      Downtown Toronto                                     St. James Town\nM6C      York                                             Humewood-Cedarvale\nM9C      Etobicoke         Bloordale Gardens,Eringate,Markland Wood,Old B...\nM1E      Scarborough                         Guildwood,Morningside,West Hill\nM4E      East Toronto                                            The Beaches\nM5E      Downtown Toronto                                        Berczy Park\nM6E      York                                            Caledonia-Fairbanks\nM1G      Scarborough                                                  Woburn\nM4G      East York                                                   Leaside\nM5G      Downtown Toronto                                 Central Bay Street\nM6G      Downtown Toronto                                           Christie\nM1H      Scarborough                                               Cedarbrae\nM2H      North York                                        Hillcrest Village\nM3H      North York            Bathurst Manor,Downsview North,Wilson Heights\nM4H      East York                                          Thorncliffe Park\n...                                                                      ...\nM4R      Central Toronto                                  North Toronto West\nM5R      Central Toronto                   The Annex,North Midtown,Yorkville\nM6R      West Toronto                                  Parkdale,Roncesvalles\nM7R      Mississauga                   Canada Post Gateway Processing Centre\nM9R      Etobicoke         Kingsview Village,Martin Grove Gardens,Richvie...\nM1S      Scarborough                                               Agincourt\nM4S      Central Toronto                                          Davisville\nM5S      Downtown Toronto                      Harbord,University of Toronto\nM6S      West Toronto                                      Runnymede,Swansea\nM1T      Scarborough                   Clarks Corners,Sullivan,Tam O'Shanter\nM4T      Central Toronto                          Moore Park,Summerhill East\nM5T      Downtown Toronto            Chinatown,Grange Park,Kensington Market\nM1V      Scarborough       Agincourt North,L'Amoreaux East,Milliken,Steel...\nM4V      Central Toronto   Deer Park,Forest Hill SE,Rathnelly,South Hill,...\nM5V      Downtown Toronto  CN Tower,Bathurst Quay,Island airport,Harbourf...\nM8V      Etobicoke                Humber Bay Shores,Mimico South,New Toronto\nM9V      Etobicoke         Albion Gardens,Beaumond Heights,Humbergate,Jam...\nM1W      Scarborough                            L'Amoreaux West,Steeles West\nM4W      Downtown Toronto                                           Rosedale\nM5W      Downtown Toronto                    Stn A PO Boxes 25 The Esplanade\nM8W      Etobicoke                                     Alderwood,Long Branch\nM9W      Etobicoke                                                 Northwest\nM1X      Scarborough                                             Upper Rouge\nM4X      Downtown Toronto                         Cabbagetown,St. James Town\nM5X      Downtown Toronto              First Canadian Place,Underground city\nM8X      Etobicoke               The Kingsway,Montgomery Road,Old Mill North\nM4Y      Downtown Toronto                               Church and Wellesley\nM7Y      East Toronto      Business Reply Mail Processing Centre 969 Eastern\nM8Y      Etobicoke         Humber Bay,King's Mill Park,Kingsway Park Sout...\nM8Z      Etobicoke         Kingsway Park South West,Mimico NW,The Queensw...\n\n[103 rows x 1 columns]"
                    }, 
                    "output_type": "execute_result"
                }
            ], 
            "source": "#Creating data framework by scrapping data from wikipedia page \n#Tthree columns: PostalCode, Borough, and Neighborhood\n    \n\n#In the last cell of your notebook, use the .shape method to print the number of rows of your dataframe.\nfrom bs4 import BeautifulSoup\nimport requests\nimport csv \nsource = requests.get('https://en.wikipedia.org/wiki/List_of_postal_codes_of_Canada:_M').text\nsoup = BeautifulSoup(source, 'html.parser')\n#print(soup.prettify())\ntable = pd.read_html(source, header=0, attrs={\"class\":\"wikitable sortable\"})[0]\n#print(tr_table)\ntr_code = pd.DataFrame(table)\n\n#Only process the cells that have an assigned borough. Ignore cells with a borough that is Not assigned.\ntr_code = tr_code[tr_code.Borough != 'Not assigned']\n\n#More than one neighborhood can exist in one postal code area. Combined into one row with the neighborhoods separated with a comma\ntr_code = tr_code.groupby(['Postcode','Borough'], sort = False).agg(lambda x: ','.join(x))\n\ntr_code"
        }, 
        {
            "execution_count": null, 
            "cell_type": "code", 
            "metadata": {}, 
            "outputs": [], 
            "source": ""
        }
    ], 
    "metadata": {
        "kernelspec": {
            "display_name": "Python 3.5", 
            "name": "python3", 
            "language": "python"
        }, 
        "language_info": {
            "mimetype": "text/x-python", 
            "nbconvert_exporter": "python", 
            "version": "3.5.5", 
            "name": "python", 
            "file_extension": ".py", 
            "pygments_lexer": "ipython3", 
            "codemirror_mode": {
                "version": 3, 
                "name": "ipython"
            }
        }
    }, 
    "nbformat": 4
}